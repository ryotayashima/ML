{
 "cells": [
  {
   "cell_type": "code",
   "execution_count": 2,
   "metadata": {
    "ExecuteTime": {
     "end_time": "2019-08-04T09:47:00.897805Z",
     "start_time": "2019-08-04T09:44:54.844046Z"
    }
   },
   "outputs": [
    {
     "name": "stdout",
     "output_type": "stream",
     "text": [
      "episode: 0 R: 0.0 statistics: [('average_q', -0.00550827032901434), ('average_loss', 0), ('n_updates', 0)]\n",
      "episode: 10 R: 0.0 statistics: [('average_q', -0.06895247450791817), ('average_loss', 0), ('n_updates', 0)]\n",
      "episode: 20 R: 0.0 statistics: [('average_q', -0.08239578676854652), ('average_loss', 0.007163189883062057), ('n_updates', 301)]\n",
      "episode: 30 R: 0.0 statistics: [('average_q', -0.055954282744113), ('average_loss', 0.007353568374299347), ('n_updates', 613)]\n",
      "episode: 40 R: 0.0 statistics: [('average_q', 0.015184216981965986), ('average_loss', 0.008122228113647493), ('n_updates', 966)]\n",
      "episode: 50 R: 1.0 statistics: [('average_q', 0.16944947422874407), ('average_loss', 0.010650966451022634), ('n_updates', 1486)]\n",
      "episode: 60 R: 1.0 statistics: [('average_q', 0.26680623872219733), ('average_loss', 0.008888552787466789), ('n_updates', 1798)]\n",
      "episode: 70 R: 1.0 statistics: [('average_q', 0.42298978167615764), ('average_loss', 0.009401562992188089), ('n_updates', 2336)]\n",
      "episode: 80 R: 0.0 statistics: [('average_q', 0.49916044297529366), ('average_loss', 0.00794100243047068), ('n_updates', 2763)]\n",
      "episode: 90 R: 1.0 statistics: [('average_q', 0.6127983278603193), ('average_loss', 0.009874354748964812), ('n_updates', 3321)]\n",
      "episode: 100 R: 0.0 statistics: [('average_q', 0.7611100101943975), ('average_loss', 0.009551963065964062), ('n_updates', 3793)]\n",
      "episode: 110 R: 1.0 statistics: [('average_q', 0.8859156836601011), ('average_loss', 0.010432477906644417), ('n_updates', 4347)]\n",
      "episode: 120 R: 0.0 statistics: [('average_q', 1.0222730437912217), ('average_loss', 0.011121516397183943), ('n_updates', 4961)]\n",
      "episode: 130 R: 0.0 statistics: [('average_q', 1.1013687240422214), ('average_loss', 0.010990664206679941), ('n_updates', 5565)]\n",
      "episode: 140 R: 3.0 statistics: [('average_q', 1.2333051163490807), ('average_loss', 0.013955151753196953), ('n_updates', 6291)]\n",
      "episode: 150 R: 0.0 statistics: [('average_q', 1.364527106331478), ('average_loss', 0.014852075472616527), ('n_updates', 6921)]\n",
      "episode: 160 R: 2.0 statistics: [('average_q', 1.5382190748332376), ('average_loss', 0.014911429981215462), ('n_updates', 7863)]\n",
      "episode: 170 R: 2.0 statistics: [('average_q', 1.6904779444249516), ('average_loss', 0.015973282203692686), ('n_updates', 8575)]\n",
      "episode: 180 R: 0.0 statistics: [('average_q', 1.7263578287048766), ('average_loss', 0.017667784209688397), ('n_updates', 9592)]\n",
      "episode: 190 R: 2.0 statistics: [('average_q', 1.948073287514209), ('average_loss', 0.0214927519281877), ('n_updates', 10454)]\n",
      "episode: 200 R: 2.0 statistics: [('average_q', 2.2178252005727255), ('average_loss', 0.022386173323764906), ('n_updates', 11365)]\n",
      "episode: 210 R: 2.0 statistics: [('average_q', 2.3173527160751943), ('average_loss', 0.021981829861863075), ('n_updates', 12215)]\n",
      "episode: 220 R: 2.0 statistics: [('average_q', 2.4866481574539727), ('average_loss', 0.01983937839139911), ('n_updates', 13036)]\n",
      "episode: 230 R: 1.0 statistics: [('average_q', 2.8747273385293024), ('average_loss', 0.01947549388670624), ('n_updates', 13676)]\n",
      "episode: 240 R: 1.0 statistics: [('average_q', 3.157833545240325), ('average_loss', 0.022327178894627), ('n_updates', 14275)]\n",
      "episode: 250 R: 1.0 statistics: [('average_q', 3.3697219056570376), ('average_loss', 0.018834263934015147), ('n_updates', 14874)]\n",
      "episode: 260 R: 1.0 statistics: [('average_q', 3.5355059129014768), ('average_loss', 0.018423395033864167), ('n_updates', 15475)]\n",
      "episode: 270 R: 1.0 statistics: [('average_q', 3.538951890925601), ('average_loss', 0.017577397328946122), ('n_updates', 16033)]\n",
      "episode: 280 R: 1.0 statistics: [('average_q', 3.2404748074317937), ('average_loss', 0.016928139718598585), ('n_updates', 16780)]\n",
      "episode: 290 R: 1.0 statistics: [('average_q', 2.744140643238661), ('average_loss', 0.017172760328762707), ('n_updates', 17940)]\n",
      "episode: 300 R: 4.0 statistics: [('average_q', 2.7026106849788833), ('average_loss', 0.016369091267518843), ('n_updates', 19197)]\n",
      "episode: 310 R: 4.0 statistics: [('average_q', 3.174340902699589), ('average_loss', 0.019183088087538602), ('n_updates', 21229)]\n",
      "episode: 320 R: 10.0 statistics: [('average_q', 4.457301667143177), ('average_loss', 0.024479923451571736), ('n_updates', 23760)]\n"
     ]
    },
    {
     "ename": "Error",
     "evalue": "Tried to reset environment which is not done. While the monitor is active for Lifting-v0, you cannot call reset() unless the episode is over.",
     "output_type": "error",
     "traceback": [
      "\u001b[0;31m---------------------------------------------------------------------------\u001b[0m",
      "\u001b[0;31mError\u001b[0m                                     Traceback (most recent call last)",
      "\u001b[0;32m<ipython-input-2-f964dad1a35c>\u001b[0m in \u001b[0;36m<module>\u001b[0;34m\u001b[0m\n\u001b[1;32m     46\u001b[0m \u001b[0;34m\u001b[0m\u001b[0m\n\u001b[1;32m     47\u001b[0m \u001b[0;32mfor\u001b[0m \u001b[0mepisode\u001b[0m \u001b[0;32min\u001b[0m \u001b[0mrange\u001b[0m\u001b[0;34m(\u001b[0m\u001b[0mnum_episodes\u001b[0m\u001b[0;34m)\u001b[0m\u001b[0;34m:\u001b[0m  \u001b[0;31m#試行数分繰り返す\u001b[0m\u001b[0;34m\u001b[0m\u001b[0;34m\u001b[0m\u001b[0m\n\u001b[0;32m---> 48\u001b[0;31m     \u001b[0mobservation\u001b[0m \u001b[0;34m=\u001b[0m \u001b[0menv\u001b[0m\u001b[0;34m.\u001b[0m\u001b[0mreset\u001b[0m\u001b[0;34m(\u001b[0m\u001b[0;34m)\u001b[0m\u001b[0;34m\u001b[0m\u001b[0;34m\u001b[0m\u001b[0m\n\u001b[0m\u001b[1;32m     49\u001b[0m     \u001b[0mdone\u001b[0m \u001b[0;34m=\u001b[0m \u001b[0;32mFalse\u001b[0m\u001b[0;34m\u001b[0m\u001b[0;34m\u001b[0m\u001b[0m\n\u001b[1;32m     50\u001b[0m     \u001b[0mreward\u001b[0m \u001b[0;34m=\u001b[0m \u001b[0;36m0\u001b[0m\u001b[0;34m\u001b[0m\u001b[0;34m\u001b[0m\u001b[0m\n",
      "\u001b[0;32m~/anaconda3/envs/py37/lib/python3.7/site-packages/gym/wrappers/monitor.py\u001b[0m in \u001b[0;36mreset\u001b[0;34m(self, **kwargs)\u001b[0m\n\u001b[1;32m     35\u001b[0m \u001b[0;34m\u001b[0m\u001b[0m\n\u001b[1;32m     36\u001b[0m     \u001b[0;32mdef\u001b[0m \u001b[0mreset\u001b[0m\u001b[0;34m(\u001b[0m\u001b[0mself\u001b[0m\u001b[0;34m,\u001b[0m \u001b[0;34m**\u001b[0m\u001b[0mkwargs\u001b[0m\u001b[0;34m)\u001b[0m\u001b[0;34m:\u001b[0m\u001b[0;34m\u001b[0m\u001b[0;34m\u001b[0m\u001b[0m\n\u001b[0;32m---> 37\u001b[0;31m         \u001b[0mself\u001b[0m\u001b[0;34m.\u001b[0m\u001b[0m_before_reset\u001b[0m\u001b[0;34m(\u001b[0m\u001b[0;34m)\u001b[0m\u001b[0;34m\u001b[0m\u001b[0;34m\u001b[0m\u001b[0m\n\u001b[0m\u001b[1;32m     38\u001b[0m         \u001b[0mobservation\u001b[0m \u001b[0;34m=\u001b[0m \u001b[0mself\u001b[0m\u001b[0;34m.\u001b[0m\u001b[0menv\u001b[0m\u001b[0;34m.\u001b[0m\u001b[0mreset\u001b[0m\u001b[0;34m(\u001b[0m\u001b[0;34m**\u001b[0m\u001b[0mkwargs\u001b[0m\u001b[0;34m)\u001b[0m\u001b[0;34m\u001b[0m\u001b[0;34m\u001b[0m\u001b[0m\n\u001b[1;32m     39\u001b[0m         \u001b[0mself\u001b[0m\u001b[0;34m.\u001b[0m\u001b[0m_after_reset\u001b[0m\u001b[0;34m(\u001b[0m\u001b[0mobservation\u001b[0m\u001b[0;34m)\u001b[0m\u001b[0;34m\u001b[0m\u001b[0;34m\u001b[0m\u001b[0m\n",
      "\u001b[0;32m~/anaconda3/envs/py37/lib/python3.7/site-packages/gym/wrappers/monitor.py\u001b[0m in \u001b[0;36m_before_reset\u001b[0;34m(self)\u001b[0m\n\u001b[1;32m    178\u001b[0m     \u001b[0;32mdef\u001b[0m \u001b[0m_before_reset\u001b[0m\u001b[0;34m(\u001b[0m\u001b[0mself\u001b[0m\u001b[0;34m)\u001b[0m\u001b[0;34m:\u001b[0m\u001b[0;34m\u001b[0m\u001b[0;34m\u001b[0m\u001b[0m\n\u001b[1;32m    179\u001b[0m         \u001b[0;32mif\u001b[0m \u001b[0;32mnot\u001b[0m \u001b[0mself\u001b[0m\u001b[0;34m.\u001b[0m\u001b[0menabled\u001b[0m\u001b[0;34m:\u001b[0m \u001b[0;32mreturn\u001b[0m\u001b[0;34m\u001b[0m\u001b[0;34m\u001b[0m\u001b[0m\n\u001b[0;32m--> 180\u001b[0;31m         \u001b[0mself\u001b[0m\u001b[0;34m.\u001b[0m\u001b[0mstats_recorder\u001b[0m\u001b[0;34m.\u001b[0m\u001b[0mbefore_reset\u001b[0m\u001b[0;34m(\u001b[0m\u001b[0;34m)\u001b[0m\u001b[0;34m\u001b[0m\u001b[0;34m\u001b[0m\u001b[0m\n\u001b[0m\u001b[1;32m    181\u001b[0m \u001b[0;34m\u001b[0m\u001b[0m\n\u001b[1;32m    182\u001b[0m     \u001b[0;32mdef\u001b[0m \u001b[0m_after_reset\u001b[0m\u001b[0;34m(\u001b[0m\u001b[0mself\u001b[0m\u001b[0;34m,\u001b[0m \u001b[0mobservation\u001b[0m\u001b[0;34m)\u001b[0m\u001b[0;34m:\u001b[0m\u001b[0;34m\u001b[0m\u001b[0;34m\u001b[0m\u001b[0m\n",
      "\u001b[0;32m~/anaconda3/envs/py37/lib/python3.7/site-packages/gym/wrappers/monitoring/stats_recorder.py\u001b[0m in \u001b[0;36mbefore_reset\u001b[0;34m(self)\u001b[0m\n\u001b[1;32m     66\u001b[0m \u001b[0;34m\u001b[0m\u001b[0m\n\u001b[1;32m     67\u001b[0m         \u001b[0;32mif\u001b[0m \u001b[0mself\u001b[0m\u001b[0;34m.\u001b[0m\u001b[0mdone\u001b[0m \u001b[0;32mis\u001b[0m \u001b[0;32mnot\u001b[0m \u001b[0;32mNone\u001b[0m \u001b[0;32mand\u001b[0m \u001b[0;32mnot\u001b[0m \u001b[0mself\u001b[0m\u001b[0;34m.\u001b[0m\u001b[0mdone\u001b[0m \u001b[0;32mand\u001b[0m \u001b[0mself\u001b[0m\u001b[0;34m.\u001b[0m\u001b[0msteps\u001b[0m \u001b[0;34m>\u001b[0m \u001b[0;36m0\u001b[0m\u001b[0;34m:\u001b[0m\u001b[0;34m\u001b[0m\u001b[0;34m\u001b[0m\u001b[0m\n\u001b[0;32m---> 68\u001b[0;31m             \u001b[0;32mraise\u001b[0m \u001b[0merror\u001b[0m\u001b[0;34m.\u001b[0m\u001b[0mError\u001b[0m\u001b[0;34m(\u001b[0m\u001b[0;34m\"Tried to reset environment which is not done. While the monitor is active for {}, you cannot call reset() unless the episode is over.\"\u001b[0m\u001b[0;34m.\u001b[0m\u001b[0mformat\u001b[0m\u001b[0;34m(\u001b[0m\u001b[0mself\u001b[0m\u001b[0;34m.\u001b[0m\u001b[0menv_id\u001b[0m\u001b[0;34m)\u001b[0m\u001b[0;34m)\u001b[0m\u001b[0;34m\u001b[0m\u001b[0;34m\u001b[0m\u001b[0m\n\u001b[0m\u001b[1;32m     69\u001b[0m \u001b[0;34m\u001b[0m\u001b[0m\n\u001b[1;32m     70\u001b[0m         \u001b[0mself\u001b[0m\u001b[0;34m.\u001b[0m\u001b[0mdone\u001b[0m \u001b[0;34m=\u001b[0m \u001b[0;32mFalse\u001b[0m\u001b[0;34m\u001b[0m\u001b[0;34m\u001b[0m\u001b[0m\n",
      "\u001b[0;31mError\u001b[0m: Tried to reset environment which is not done. While the monitor is active for Lifting-v0, you cannot call reset() unless the episode is over."
     ]
    }
   ],
   "source": [
    "# coding:utf-8\n",
    "\"\"\"\n",
    "リフティングのDQNプログラム（ODE使用）\n",
    "Copyright(c) 2018 Koji Makino and Hiromitsu Nishizaki All Rights Reserved.\n",
    "\"\"\"\n",
    "import myenv\n",
    "import gym  #倒立振子(cartpole)の実行環境\n",
    "from gym import wrappers  #gymの画像保存\n",
    "import numpy as np\n",
    "import time\n",
    "import chainer\n",
    "import chainer.functions as F\n",
    "import chainer.links as L\n",
    "import chainerrl\n",
    " \n",
    "\n",
    "gamma = 0.999\n",
    "alpha = 0.5\n",
    "\n",
    "# Q-関数の定義\n",
    "class QFunction(chainer.Chain):\n",
    "    def __init__(self, obs_size, n_actions, n_hidden_channels=50):\n",
    "        super().__init__()\n",
    "        with self.init_scope():\n",
    "            self.l0=L.Linear(obs_size, n_hidden_channels)\n",
    "            self.l1=L.Linear(n_hidden_channels, n_hidden_channels)\n",
    "            self.l2=L.Linear(n_hidden_channels, n_actions)\n",
    "\n",
    "    def __call__(self, x, test=False):\n",
    "        h1 = F.tanh(self.l0(x))#leaky_relu\n",
    "        h2 = F.tanh(self.l1(h1))#leaky_relu\n",
    "        return chainerrl.action_value.DiscreteActionValue(self.l2(h2))\n",
    "\n",
    "env = gym.make('Lifting-v0')\n",
    "env = gym.wrappers.Monitor(env, 'videos', force=True, video_callable=(lambda ep: ep % 100 == 0))\n",
    "num_episodes = 20000  #総試行回数\n",
    "q_func = QFunction(env.observation_space.shape[0], env.action_space.n)\n",
    "optimizer = chainer.optimizers.Adam(eps=1e-2)\n",
    "optimizer.setup(q_func)\n",
    "explorer = chainerrl.explorers.LinearDecayEpsilonGreedy(start_epsilon=1.0, end_epsilon=0.1, decay_steps=num_episodes, random_action_func=env.action_space.sample)\n",
    "replay_buffer = chainerrl.replay_buffer.ReplayBuffer(capacity=10 ** 6)\n",
    "phi = lambda x: x.astype(np.float32, copy=False)\n",
    "agent = chainerrl.agents.DQN(\n",
    "    q_func, optimizer, replay_buffer, gamma, explorer,\n",
    "    replay_start_size=500, update_interval=1, target_update_interval=100, phi=phi)\n",
    "\n",
    "for episode in range(num_episodes):  #試行数分繰り返す\n",
    "    observation = env.reset()\n",
    "    done = False\n",
    "    reward = 0\n",
    "    R = 0\n",
    "    while not done and R<10:\n",
    "        if episode%10==0:\n",
    "            env.render('human')\n",
    "        action = agent.act_and_train(observation, reward)\n",
    "        observation, reward, done, info = env.step(action)\n",
    "        R += reward\n",
    "    agent.stop_episode_and_train(observation, reward, done)\n",
    "    if episode % 10 == 0:\n",
    "        print('episode:', episode,\n",
    "              'R:', R,\n",
    "              'statistics:', agent.get_statistics())\n",
    "agent.save('agent')\n"
   ]
  }
 ],
 "metadata": {
  "kernelspec": {
   "display_name": "Python 3",
   "language": "python",
   "name": "python3"
  },
  "language_info": {
   "codemirror_mode": {
    "name": "ipython",
    "version": 3
   },
   "file_extension": ".py",
   "mimetype": "text/x-python",
   "name": "python",
   "nbconvert_exporter": "python",
   "pygments_lexer": "ipython3",
   "version": "3.7.3"
  },
  "toc": {
   "base_numbering": 1,
   "nav_menu": {},
   "number_sections": true,
   "sideBar": true,
   "skip_h1_title": false,
   "title_cell": "Table of Contents",
   "title_sidebar": "Contents",
   "toc_cell": false,
   "toc_position": {},
   "toc_section_display": true,
   "toc_window_display": false
  },
  "varInspector": {
   "cols": {
    "lenName": 16,
    "lenType": 16,
    "lenVar": 40
   },
   "kernels_config": {
    "python": {
     "delete_cmd_postfix": "",
     "delete_cmd_prefix": "del ",
     "library": "var_list.py",
     "varRefreshCmd": "print(var_dic_list())"
    },
    "r": {
     "delete_cmd_postfix": ") ",
     "delete_cmd_prefix": "rm(",
     "library": "var_list.r",
     "varRefreshCmd": "cat(var_dic_list()) "
    }
   },
   "types_to_exclude": [
    "module",
    "function",
    "builtin_function_or_method",
    "instance",
    "_Feature"
   ],
   "window_display": false
  }
 },
 "nbformat": 4,
 "nbformat_minor": 2
}
